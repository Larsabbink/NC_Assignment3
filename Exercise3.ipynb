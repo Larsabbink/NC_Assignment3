{
 "cells": [
  {
   "cell_type": "code",
   "execution_count": 19,
   "metadata": {},
   "outputs": [],
   "source": [
    "import numpy as np\n",
    "import re\n",
    "import math"
   ]
  },
  {
   "cell_type": "code",
   "execution_count": 22,
   "metadata": {},
   "outputs": [],
   "source": [
    "def import_data():\n",
    "    data = []\n",
    "    with open('file-tsp.txt') as f:\n",
    "        for line in f:\n",
    "            cords = re.split('\\s+', line)\n",
    "            data.append([float(cords[0]),float(cords[1])])\n",
    "    return data\n",
    "\n",
    "data = import_data()"
   ]
  },
  {
   "cell_type": "code",
   "execution_count": 23,
   "metadata": {},
   "outputs": [
    {
     "name": "stdout",
     "output_type": "stream",
     "text": [
      "[[0.2554, 18.2366], [0.4339, 15.2476], [0.7377, 8.3137], [1.1354, 16.5638], [1.582, 17.303], [2.0913, 9.2924], [2.2631, 17.3392], [2.6373, 2.6425], [3.004, 19.5712], [3.6684, 14.8018], [3.863, 13.7008], [4.2065, 9.8224], [4.8353, 2.0944], [4.9785, 3.1596], [5.3754, 17.6381], [5.9425, 6.036], [6.1451, 3.8132], [6.7782, 11.0125], [6.9223, 7.7819], [7.5691, 0.9378], [7.819, 13.1697], [8.3332, 5.9161], [8.5872, 7.8303], [9.1224, 14.5889], [9.4076, 9.7166], [9.7208, 8.1154], [10.1662, 19.1705], [10.7387, 2.009], [10.9354, 5.1813], [11.3707, 7.2406], [11.7418, 13.6874], [12.0526, 4.7186], [12.6385, 12.1], [13.095, 13.6956], [13.3533, 17.3524], [13.8794, 3.9479], [14.2674, 15.8651], [14.552, 17.2489], [14.9737, 13.2245], [15.2841, 1.4455], [15.5761, 12.127], [16.1313, 14.2029], [16.4388, 16.0084], [16.7821, 9.4334], [17.3928, 12.9692], [17.5139, 6.4828], [17.9487, 7.5563], [18.3958, 19.5112], [18.9696, 19.3565], [19.0928, 16.5453]]\n"
     ]
    }
   ],
   "source": [
    "print(data)"
   ]
  },
  {
   "cell_type": "code",
   "execution_count": 25,
   "metadata": {},
   "outputs": [
    {
     "name": "stdout",
     "output_type": "stream",
     "text": [
      "0.1785\n"
     ]
    }
   ],
   "source": [
    "def dist(city1, city2):\n",
    "    return math.sqrt((city1[0] - city2[0])**2 + (city1[1] - city1[1]))\n",
    "\n",
    "print(dist(data[0], data[1]))"
   ]
  },
  {
   "cell_type": "code",
   "execution_count": 24,
   "metadata": {},
   "outputs": [
    {
     "ename": "TypeError",
     "evalue": "'float' object is not iterable",
     "output_type": "error",
     "traceback": [
      "\u001b[1;31m---------------------------------------------------------------------------\u001b[0m",
      "\u001b[1;31mTypeError\u001b[0m                                 Traceback (most recent call last)",
      "Cell \u001b[1;32mIn[24], line 1\u001b[0m\n\u001b[1;32m----> 1\u001b[0m \u001b[39mprint\u001b[39m(math\u001b[39m.\u001b[39;49mdist(data[\u001b[39m0\u001b[39;49m][\u001b[39m0\u001b[39;49m], data[\u001b[39m0\u001b[39;49m][\u001b[39m1\u001b[39;49m]))\n",
      "\u001b[1;31mTypeError\u001b[0m: 'float' object is not iterable"
     ]
    }
   ],
   "source": [
    "print(math.dist(data[0][0], data[0][1]))"
   ]
  },
  {
   "cell_type": "code",
   "execution_count": null,
   "metadata": {},
   "outputs": [],
   "source": []
  }
 ],
 "metadata": {
  "kernelspec": {
   "display_name": "Python 3",
   "language": "python",
   "name": "python3"
  },
  "language_info": {
   "codemirror_mode": {
    "name": "ipython",
    "version": 3
   },
   "file_extension": ".py",
   "mimetype": "text/x-python",
   "name": "python",
   "nbconvert_exporter": "python",
   "pygments_lexer": "ipython3",
   "version": "3.10.10"
  },
  "orig_nbformat": 4
 },
 "nbformat": 4,
 "nbformat_minor": 2
}
