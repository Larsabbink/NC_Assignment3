{
 "cells": [
  {
   "cell_type": "code",
   "execution_count": 2,
   "metadata": {},
   "outputs": [],
   "source": [
    "import numpy as np\n",
    "import random"
   ]
  },
  {
   "cell_type": "code",
   "execution_count": 9,
   "metadata": {},
   "outputs": [
    {
     "name": "stdout",
     "output_type": "stream",
     "text": [
      "1001110001110100011001000001001010000111101101001101111110110001001100110110111011110000011001011001\n"
     ]
    }
   ],
   "source": [
    "string_length = 100\n",
    "mutation_rate = 1/string_length\n",
    "generations   = 1500\n",
    "\n",
    "def generate_binary_string():\n",
    "    number = random.getrandbits(string_length)\n",
    "    return format(number, '0b')\n",
    "\n",
    "bit_sequence = generate_binary_string()\n",
    "print(bit_sequence)"
   ]
  },
  {
   "cell_type": "code",
   "execution_count": 19,
   "metadata": {},
   "outputs": [
    {
     "name": "stdout",
     "output_type": "stream",
     "text": [
      "Changed: 2\n",
      "Changed: 88\n",
      "1010011101111010010011100101010011101000001000000001000111100111100111100010110111101110110100001110\n",
      "1000011101111010010011100101010011101000001000000001000111100111100111100010110111101110010100001110\n"
     ]
    }
   ],
   "source": [
    "def fitness(x):\n",
    "    total_fitness = 0\n",
    "    for i, bit in enumerate(x):\n",
    "        if (bit_sequence[i] == x):\n",
    "            total_fitness += 1\n",
    "    \n",
    "    return total_fitness\n",
    "\n",
    "def mutate(x):\n",
    "    result = \"\"\n",
    "    for bit in x:\n",
    "        if random.random() < mutation_rate:\n",
    "            new_char = '1' if bit == '0' else '0'\n",
    "            result += new_char\n",
    "        else:\n",
    "            result += bit\n",
    "    return result\n",
    "\n",
    "    \n",
    "\n",
    "\n",
    "def ga():\n",
    "    x = generate_binary_string()\n",
    "    prev_fitness = fitness(x)\n",
    "\n",
    "    for i in range(generations):\n",
    "        xm = mutate(x)\n",
    "        return\n",
    "    print(\"GA\")\n",
    "\n",
    "ga()"
   ]
  },
  {
   "cell_type": "code",
   "execution_count": 7,
   "metadata": {},
   "outputs": [
    {
     "ename": "TypeError",
     "evalue": "unsupported operand type(s) for ^: 'str' and 'int'",
     "output_type": "error",
     "traceback": [
      "\u001b[1;31m---------------------------------------------------------------------------\u001b[0m",
      "\u001b[1;31mTypeError\u001b[0m                                 Traceback (most recent call last)",
      "Cell \u001b[1;32mIn[7], line 1\u001b[0m\n\u001b[1;32m----> 1\u001b[0m \u001b[39m'\u001b[39;49m\u001b[39m1\u001b[39;49m\u001b[39m'\u001b[39;49m \u001b[39m^\u001b[39;49m \u001b[39m1\u001b[39;49m\n",
      "\u001b[1;31mTypeError\u001b[0m: unsupported operand type(s) for ^: 'str' and 'int'"
     ]
    }
   ],
   "source": []
  },
  {
   "cell_type": "code",
   "execution_count": null,
   "metadata": {},
   "outputs": [],
   "source": []
  }
 ],
 "metadata": {
  "kernelspec": {
   "display_name": "Python 3",
   "language": "python",
   "name": "python3"
  },
  "language_info": {
   "codemirror_mode": {
    "name": "ipython",
    "version": 3
   },
   "file_extension": ".py",
   "mimetype": "text/x-python",
   "name": "python",
   "nbconvert_exporter": "python",
   "pygments_lexer": "ipython3",
   "version": "3.10.10"
  },
  "orig_nbformat": 4
 },
 "nbformat": 4,
 "nbformat_minor": 2
}
