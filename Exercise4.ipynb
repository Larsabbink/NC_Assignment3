{
 "cells": [
  {
   "cell_type": "code",
   "execution_count": 55,
   "metadata": {},
   "outputs": [],
   "source": [
    "import numpy as np\n",
    "import matplotlib.pyplot as plt\n",
    "import string\n",
    "import random\n",
    "import time"
   ]
  },
  {
   "cell_type": "code",
   "execution_count": 56,
   "metadata": {},
   "outputs": [],
   "source": [
    "#Initialize variables (Make sure that K divides N and that N/K is an even number)\n",
    "target_string = \"this is our target\"\n",
    "alphabet = list(string.ascii_lowercase) + [' ']\n",
    "\n",
    "def fitness(candidate):\n",
    "    correct_characters = 0\n",
    "\n",
    "    for i, char in enumerate(target_string):\n",
    "        if char == candidate[i]:\n",
    "            correct_characters += 1\n",
    "\n",
    "    return correct_characters / len(target_string)\n",
    "\n",
    "def crossover(parent1, parent2):\n",
    "    crossover_point = random.randrange(1, len(parent1))\n",
    "\n",
    "    child1 = parent1[:crossover_point] + parent2[crossover_point:]\n",
    "    child2 = parent2[:crossover_point] + parent1[crossover_point:]\n",
    "\n",
    "    return child1, child2\n",
    "\n",
    "def string_search(K = 2, N = 1000, mutation_p = 0.01, crossover_p = 1):\n",
    "    population = []\n",
    "\n",
    "    # Create population\n",
    "    for _ in range(N):\n",
    "        population.append(np.random.choice(alphabet, len(target_string)).tolist())\n",
    "\n",
    "    while True:\n",
    "        # K tournament selection\n",
    "        parents = []\n",
    "        indexes = np.random.permutation(len(population))\n",
    "        pairs = zip(*[iter(indexes)]*K)\n",
    "        for pair in pairs:\n",
    "            fittest_candidate = None\n",
    "            fitness_candidate = -1\n",
    "\n",
    "            for index in pair:\n",
    "                fitness_current = fitness(population[index])\n",
    "\n",
    "                # Check if candidate is target solution and break out of loop\n",
    "                if (fitness_current == 1):\n",
    "                    print(\"Target found\")\n",
    "                    print(population[index])\n",
    "                    return\n",
    "\n",
    "                if fitness_current > fitness_candidate:\n",
    "                    fittest_candidate = population[index]\n",
    "                    fitness_candidate = fitness_current\n",
    "\n",
    "            parents.append(fittest_candidate)\n",
    "        \n",
    "        # Create new population with crossover and mutation\n",
    "        population = []\n",
    "\n",
    "        if random.random() < crossover_p:\n",
    "            # Create num_parents * K new children\n",
    "            for _ in range(K):\n",
    "                indexes = np.random.permutation(len(parents))\n",
    "                pairs = zip(*[iter(indexes)]*2)\n",
    "                for pair in pairs:\n",
    "                    child1, child2 = crossover(parents[pair[0]], parents[pair[1]])\n",
    "                    population += [child1, child2]\n",
    "                \n",
    "        for candidate in population:\n",
    "            for i, _ in enumerate(candidate):\n",
    "                if random.random() < mutation_p:\n",
    "                    new_char = alphabet[random.randrange(0, len(alphabet))]\n",
    "                    candidate[i] = new_char\n",
    "\n"
   ]
  },
  {
   "cell_type": "code",
   "execution_count": 8,
   "metadata": {},
   "outputs": [
    {
     "name": "stdout",
     "output_type": "stream",
     "text": [
      "['a', 'b', 'c', 'd', 'e', 'f', 'g', 'h', 'i', 'j', 'k', 'l', 'm', 'n', 'o', 'p', 'q', 'r', 's', 't', 'u', 'v', 'w', 'x', 'y', 'z']\n"
     ]
    }
   ],
   "source": [
    "for _ in range(20):\n",
    "    start_time = time.time()\n",
    "    "
   ]
  },
  {
   "cell_type": "code",
   "execution_count": null,
   "metadata": {},
   "outputs": [],
   "source": []
  }
 ],
 "metadata": {
  "kernelspec": {
   "display_name": "Python 3",
   "language": "python",
   "name": "python3"
  },
  "language_info": {
   "codemirror_mode": {
    "name": "ipython",
    "version": 3
   },
   "file_extension": ".py",
   "mimetype": "text/x-python",
   "name": "python",
   "nbconvert_exporter": "python",
   "pygments_lexer": "ipython3",
   "version": "3.10.10"
  },
  "orig_nbformat": 4
 },
 "nbformat": 4,
 "nbformat_minor": 2
}
